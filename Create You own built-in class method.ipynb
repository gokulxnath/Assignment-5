{
 "cells": [
  {
   "cell_type": "markdown",
   "id": "e9bcceaf",
   "metadata": {},
   "source": [
    "# Write a Python class to implement pow(x, n)"
   ]
  },
  {
   "cell_type": "code",
   "execution_count": 3,
   "id": "fdef7863",
   "metadata": {},
   "outputs": [
    {
     "name": "stdout",
     "output_type": "stream",
     "text": [
      "100\n"
     ]
    }
   ],
   "source": [
    "class power:\n",
    "    def pow(self, x, n):\n",
    "        if x==0 or x==1 or n==1:\n",
    "            return x\n",
    "        if n==0: \n",
    "            return 1\n",
    "        if x<0:\n",
    "            y = (-1)*x\n",
    "            if n%2==0: \n",
    "                return self.pow(y,n)\n",
    "            else: \n",
    "                return -self.pow(y,n)\n",
    "        if n<0:\n",
    "            return 1/self.pow(x,-n)\n",
    "        val = self.pow(x, n//2)\n",
    "        if n%2 == 0:\n",
    "            return val*val\n",
    "        return val * val * x\n",
    "\n",
    "p = power()\n",
    "print(p.pow(10,2))"
   ]
  }
 ],
 "metadata": {
  "kernelspec": {
   "display_name": "Python 3 (ipykernel)",
   "language": "python",
   "name": "python3"
  },
  "language_info": {
   "codemirror_mode": {
    "name": "ipython",
    "version": 3
   },
   "file_extension": ".py",
   "mimetype": "text/x-python",
   "name": "python",
   "nbconvert_exporter": "python",
   "pygments_lexer": "ipython3",
   "version": "3.9.7"
  }
 },
 "nbformat": 4,
 "nbformat_minor": 5
}
